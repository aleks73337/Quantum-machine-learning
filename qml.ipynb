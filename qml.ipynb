{
 "cells": [
  {
   "cell_type": "code",
   "execution_count": 1,
   "id": "64784ac5",
   "metadata": {},
   "outputs": [
    {
     "name": "stderr",
     "output_type": "stream",
     "text": [
      "2021-12-23 15:13:17.591915: W tensorflow/stream_executor/platform/default/dso_loader.cc:64] Could not load dynamic library 'libcudart.so.11.0'; dlerror: libcudart.so.11.0: cannot open shared object file: No such file or directory\n",
      "2021-12-23 15:13:17.591933: I tensorflow/stream_executor/cuda/cudart_stub.cc:29] Ignore above cudart dlerror if you do not have a GPU set up on your machine.\n"
     ]
    }
   ],
   "source": [
    "import numpy as np\n",
    "import tensorflow as tf"
   ]
  },
  {
   "cell_type": "code",
   "execution_count": 2,
   "id": "685a0023",
   "metadata": {},
   "outputs": [
    {
     "name": "stdout",
     "output_type": "stream",
     "text": [
      "60000 10000\n",
      "(60000, 28, 28)\n"
     ]
    }
   ],
   "source": [
    "n_qubits = 6                  # Number of qubits\n",
    "num_layers = 5                # Number of layers\n",
    "\n",
    "(x_train, y_train), (x_test, y_test) = tf.keras.datasets.fashion_mnist.load_data()\n",
    "x_train, x_test = x_train / 255.0, x_test / 255.0\n",
    "\n",
    "print(len(x_train), len(y_test))\n",
    "print(x_train.shape)\n",
    "\n",
    "reduce_scale = 5\n",
    "select_digits = [2, 4, 8]\n",
    "\n",
    "if select_digits:\n",
    "  train_index_f = (y_train == -1)\n",
    "  tests_index_f = (y_test  == -1)\n",
    "  \n",
    "  for n_class in select_digits:\n",
    "    train_index_f   |= (y_train == n_class) \n",
    "    tests_index_f   |= (y_test == n_class)\n",
    "  x_train = x_train[train_index_f]\n",
    "  y_train = y_train[train_index_f]\n",
    "\n",
    "  x_test = x_test[tests_index_f]\n",
    "  y_test = y_test[tests_index_f]\n",
    "\n",
    "if reduce_scale:\n",
    "  x_train = x_train[:int(len(x_train)/reduce_scale)]\n",
    "  y_train = y_train[:int(len(y_train)/reduce_scale)]\n",
    "\n",
    "  x_test = x_test[:int(len(x_test)/reduce_scale)]\n",
    "  y_test = y_test[:int(len(y_test)/reduce_scale)]"
   ]
  },
  {
   "cell_type": "code",
   "execution_count": 3,
   "id": "37008714",
   "metadata": {},
   "outputs": [
    {
     "name": "stdout",
     "output_type": "stream",
     "text": [
      "Epoch 1/50\n"
     ]
    },
    {
     "name": "stderr",
     "output_type": "stream",
     "text": [
      "2021-12-23 15:13:18.951838: I tensorflow/stream_executor/cuda/cuda_gpu_executor.cc:939] successful NUMA node read from SysFS had negative value (-1), but there must be at least one NUMA node, so returning NUMA node zero\n",
      "2021-12-23 15:13:18.952197: W tensorflow/stream_executor/platform/default/dso_loader.cc:64] Could not load dynamic library 'libcudart.so.11.0'; dlerror: libcudart.so.11.0: cannot open shared object file: No such file or directory\n",
      "2021-12-23 15:13:18.952234: W tensorflow/stream_executor/platform/default/dso_loader.cc:64] Could not load dynamic library 'libcublas.so.11'; dlerror: libcublas.so.11: cannot open shared object file: No such file or directory\n",
      "2021-12-23 15:13:18.952268: W tensorflow/stream_executor/platform/default/dso_loader.cc:64] Could not load dynamic library 'libcublasLt.so.11'; dlerror: libcublasLt.so.11: cannot open shared object file: No such file or directory\n",
      "2021-12-23 15:13:18.953492: W tensorflow/stream_executor/platform/default/dso_loader.cc:64] Could not load dynamic library 'libcusolver.so.11'; dlerror: libcusolver.so.11: cannot open shared object file: No such file or directory\n",
      "2021-12-23 15:13:18.953531: W tensorflow/stream_executor/platform/default/dso_loader.cc:64] Could not load dynamic library 'libcusparse.so.11'; dlerror: libcusparse.so.11: cannot open shared object file: No such file or directory\n",
      "2021-12-23 15:13:18.953568: W tensorflow/stream_executor/platform/default/dso_loader.cc:64] Could not load dynamic library 'libcudnn.so.8'; dlerror: libcudnn.so.8: cannot open shared object file: No such file or directory\n",
      "2021-12-23 15:13:18.953575: W tensorflow/core/common_runtime/gpu/gpu_device.cc:1850] Cannot dlopen some GPU libraries. Please make sure the missing libraries mentioned above are installed properly if you would like to use GPU. Follow the guide at https://www.tensorflow.org/install/gpu for how to download and setup the required libraries for your platform.\n",
      "Skipping registering GPU devices...\n",
      "2021-12-23 15:13:18.953898: I tensorflow/core/platform/cpu_feature_guard.cc:151] This TensorFlow binary is optimized with oneAPI Deep Neural Network Library (oneDNN) to use the following CPU instructions in performance-critical operations:  AVX2 FMA\n",
      "To enable them in other operations, rebuild TensorFlow with the appropriate compiler flags.\n"
     ]
    },
    {
     "name": "stdout",
     "output_type": "stream",
     "text": [
      "113/113 [==============================] - 1s 2ms/step - loss: 0.1961 - accuracy: 0.0661 - val_loss: 0.1636 - val_accuracy: 0.0760\n",
      "Epoch 2/50\n",
      "113/113 [==============================] - 0s 1ms/step - loss: 0.1437 - accuracy: 0.0865 - val_loss: 0.1294 - val_accuracy: 0.0876\n",
      "Epoch 3/50\n",
      "113/113 [==============================] - 0s 1ms/step - loss: 0.1133 - accuracy: 0.1055 - val_loss: 0.1081 - val_accuracy: 0.1077\n",
      "Epoch 4/50\n",
      "113/113 [==============================] - 0s 1ms/step - loss: 0.1018 - accuracy: 0.1168 - val_loss: 0.0996 - val_accuracy: 0.1197\n",
      "Epoch 5/50\n",
      "113/113 [==============================] - 0s 1ms/step - loss: 0.0966 - accuracy: 0.1199 - val_loss: 0.0945 - val_accuracy: 0.1225\n",
      "Epoch 6/50\n",
      "113/113 [==============================] - 0s 1ms/step - loss: 0.0934 - accuracy: 0.1225 - val_loss: 0.0922 - val_accuracy: 0.1248\n",
      "Epoch 7/50\n",
      "113/113 [==============================] - 0s 1ms/step - loss: 0.0907 - accuracy: 0.1268 - val_loss: 0.0915 - val_accuracy: 0.1279\n",
      "Epoch 8/50\n",
      "113/113 [==============================] - 0s 1ms/step - loss: 0.0885 - accuracy: 0.1270 - val_loss: 0.0881 - val_accuracy: 0.1332\n",
      "Epoch 9/50\n",
      "113/113 [==============================] - 0s 1ms/step - loss: 0.0868 - accuracy: 0.1297 - val_loss: 0.0862 - val_accuracy: 0.1314\n",
      "Epoch 10/50\n",
      "113/113 [==============================] - 0s 1ms/step - loss: 0.0853 - accuracy: 0.1329 - val_loss: 0.0871 - val_accuracy: 0.1287\n",
      "Epoch 11/50\n",
      "113/113 [==============================] - 0s 1ms/step - loss: 0.0843 - accuracy: 0.1341 - val_loss: 0.0844 - val_accuracy: 0.1299\n",
      "Epoch 12/50\n",
      "113/113 [==============================] - 0s 1ms/step - loss: 0.0828 - accuracy: 0.1356 - val_loss: 0.0835 - val_accuracy: 0.1389\n",
      "Epoch 13/50\n",
      "113/113 [==============================] - 0s 1ms/step - loss: 0.0818 - accuracy: 0.1387 - val_loss: 0.0824 - val_accuracy: 0.1417\n",
      "Epoch 14/50\n",
      "113/113 [==============================] - 0s 1ms/step - loss: 0.0809 - accuracy: 0.1401 - val_loss: 0.0816 - val_accuracy: 0.1457\n",
      "Epoch 15/50\n",
      "113/113 [==============================] - 0s 1ms/step - loss: 0.0801 - accuracy: 0.1433 - val_loss: 0.0804 - val_accuracy: 0.1423\n",
      "Epoch 16/50\n",
      "113/113 [==============================] - 0s 1ms/step - loss: 0.0785 - accuracy: 0.1424 - val_loss: 0.0792 - val_accuracy: 0.1420\n",
      "Epoch 17/50\n",
      "113/113 [==============================] - 0s 1ms/step - loss: 0.0775 - accuracy: 0.1446 - val_loss: 0.0785 - val_accuracy: 0.1436\n",
      "Epoch 18/50\n",
      "113/113 [==============================] - 0s 1ms/step - loss: 0.0766 - accuracy: 0.1471 - val_loss: 0.0777 - val_accuracy: 0.1469\n",
      "Epoch 19/50\n",
      "113/113 [==============================] - 0s 1ms/step - loss: 0.0757 - accuracy: 0.1478 - val_loss: 0.0765 - val_accuracy: 0.1485\n",
      "Epoch 20/50\n",
      "113/113 [==============================] - 0s 1ms/step - loss: 0.0749 - accuracy: 0.1509 - val_loss: 0.0760 - val_accuracy: 0.1440\n",
      "Epoch 21/50\n",
      "113/113 [==============================] - 0s 1ms/step - loss: 0.0741 - accuracy: 0.1522 - val_loss: 0.0745 - val_accuracy: 0.1470\n",
      "Epoch 22/50\n",
      "113/113 [==============================] - 0s 1ms/step - loss: 0.0741 - accuracy: 0.1531 - val_loss: 0.0745 - val_accuracy: 0.1502\n",
      "Epoch 23/50\n",
      "113/113 [==============================] - 0s 1ms/step - loss: 0.0732 - accuracy: 0.1541 - val_loss: 0.0743 - val_accuracy: 0.1551\n",
      "Epoch 24/50\n",
      "113/113 [==============================] - 0s 1ms/step - loss: 0.0728 - accuracy: 0.1589 - val_loss: 0.0738 - val_accuracy: 0.1508\n",
      "Epoch 25/50\n",
      "113/113 [==============================] - 0s 1ms/step - loss: 0.0720 - accuracy: 0.1591 - val_loss: 0.0738 - val_accuracy: 0.1534\n",
      "Epoch 26/50\n",
      "113/113 [==============================] - 0s 1ms/step - loss: 0.0716 - accuracy: 0.1621 - val_loss: 0.0735 - val_accuracy: 0.1597\n",
      "Epoch 27/50\n",
      "113/113 [==============================] - 0s 1ms/step - loss: 0.0711 - accuracy: 0.1619 - val_loss: 0.0742 - val_accuracy: 0.1609\n",
      "Epoch 28/50\n",
      "113/113 [==============================] - 0s 1ms/step - loss: 0.0712 - accuracy: 0.1632 - val_loss: 0.0726 - val_accuracy: 0.1598\n",
      "Epoch 29/50\n",
      "113/113 [==============================] - 0s 1ms/step - loss: 0.0702 - accuracy: 0.1674 - val_loss: 0.0720 - val_accuracy: 0.1548\n",
      "Epoch 30/50\n",
      "113/113 [==============================] - 0s 1ms/step - loss: 0.0695 - accuracy: 0.1674 - val_loss: 0.0710 - val_accuracy: 0.1608\n",
      "Epoch 31/50\n",
      "113/113 [==============================] - 0s 1ms/step - loss: 0.0698 - accuracy: 0.1672 - val_loss: 0.0714 - val_accuracy: 0.1604\n",
      "Epoch 32/50\n",
      "113/113 [==============================] - 0s 1ms/step - loss: 0.0694 - accuracy: 0.1688 - val_loss: 0.0716 - val_accuracy: 0.1581\n",
      "Epoch 33/50\n",
      "113/113 [==============================] - 0s 1ms/step - loss: 0.0686 - accuracy: 0.1713 - val_loss: 0.0706 - val_accuracy: 0.1658\n",
      "Epoch 34/50\n",
      "113/113 [==============================] - 0s 1ms/step - loss: 0.0679 - accuracy: 0.1727 - val_loss: 0.0705 - val_accuracy: 0.1595\n",
      "Epoch 35/50\n",
      "113/113 [==============================] - 0s 1ms/step - loss: 0.0682 - accuracy: 0.1738 - val_loss: 0.0704 - val_accuracy: 0.1682\n",
      "Epoch 36/50\n",
      "113/113 [==============================] - 0s 1ms/step - loss: 0.0674 - accuracy: 0.1767 - val_loss: 0.0711 - val_accuracy: 0.1642\n",
      "Epoch 37/50\n",
      "113/113 [==============================] - 0s 1ms/step - loss: 0.0673 - accuracy: 0.1760 - val_loss: 0.0696 - val_accuracy: 0.1685\n",
      "Epoch 38/50\n",
      "113/113 [==============================] - 0s 1ms/step - loss: 0.0668 - accuracy: 0.1758 - val_loss: 0.0692 - val_accuracy: 0.1691\n",
      "Epoch 39/50\n",
      "113/113 [==============================] - 0s 1ms/step - loss: 0.0665 - accuracy: 0.1771 - val_loss: 0.0701 - val_accuracy: 0.1732\n",
      "Epoch 40/50\n",
      "113/113 [==============================] - 0s 1ms/step - loss: 0.0663 - accuracy: 0.1777 - val_loss: 0.0685 - val_accuracy: 0.1690\n",
      "Epoch 41/50\n",
      "113/113 [==============================] - 0s 1ms/step - loss: 0.0662 - accuracy: 0.1789 - val_loss: 0.0692 - val_accuracy: 0.1752\n",
      "Epoch 42/50\n",
      "113/113 [==============================] - 0s 1ms/step - loss: 0.0658 - accuracy: 0.1797 - val_loss: 0.0696 - val_accuracy: 0.1727\n",
      "Epoch 43/50\n",
      "113/113 [==============================] - 0s 1ms/step - loss: 0.0659 - accuracy: 0.1815 - val_loss: 0.0680 - val_accuracy: 0.1737\n",
      "Epoch 44/50\n",
      "113/113 [==============================] - 0s 1ms/step - loss: 0.0654 - accuracy: 0.1818 - val_loss: 0.0684 - val_accuracy: 0.1739\n",
      "Epoch 45/50\n",
      "113/113 [==============================] - 0s 1ms/step - loss: 0.0654 - accuracy: 0.1823 - val_loss: 0.0682 - val_accuracy: 0.1736\n",
      "Epoch 46/50\n",
      "113/113 [==============================] - 0s 1ms/step - loss: 0.0651 - accuracy: 0.1842 - val_loss: 0.0675 - val_accuracy: 0.1719\n",
      "Epoch 47/50\n",
      "113/113 [==============================] - 0s 1ms/step - loss: 0.0645 - accuracy: 0.1855 - val_loss: 0.0681 - val_accuracy: 0.1694\n",
      "Epoch 48/50\n",
      "113/113 [==============================] - 0s 1ms/step - loss: 0.0646 - accuracy: 0.1852 - val_loss: 0.0672 - val_accuracy: 0.1814\n",
      "Epoch 49/50\n",
      "113/113 [==============================] - 0s 1ms/step - loss: 0.0642 - accuracy: 0.1860 - val_loss: 0.0670 - val_accuracy: 0.1790\n",
      "Epoch 50/50\n",
      "113/113 [==============================] - 0s 1ms/step - loss: 0.0644 - accuracy: 0.1869 - val_loss: 0.0669 - val_accuracy: 0.1765\n"
     ]
    },
    {
     "data": {
      "text/plain": [
       "<keras.callbacks.History at 0x7fd9f0692670>"
      ]
     },
     "execution_count": 3,
     "metadata": {},
     "output_type": "execute_result"
    }
   ],
   "source": [
    "latent_dim = 2 ** n_qubits    # Selected latent dimensions\n",
    "\n",
    "class Autoencoder(tf.keras.models.Model):\n",
    "  def __init__(self, latent_dim):\n",
    "    super(Autoencoder, self).__init__()\n",
    "    self.latent_dim = latent_dim   \n",
    "    self.encoder = tf.keras.Sequential([\n",
    "      tf.keras.layers.Flatten(name = \"faltten_1\"),\n",
    "      tf.keras.layers.Dense(128, activation='relu', name = \"dense_1\"),\n",
    "      tf.keras.layers.Dense(64, activation='relu', name = \"dense_2\"),\n",
    "      tf.keras.layers.Dense(64, activation='relu', name = \"dense_x\"),\n",
    "      tf.keras.layers.Dense(latent_dim, activation='relu', name = \"dense_3\"),\n",
    "    ])\n",
    "    self.decoder = tf.keras.Sequential([\n",
    "      tf.keras.layers.Dense(64, activation='relu', name = \"dense_4\"),\n",
    "      tf.keras.layers.Dense(128, activation='relu', name = \"dense_5\"),\n",
    "      tf.keras.layers.Dense(784, activation='sigmoid', name = \"dense_6\"),\n",
    "      tf.keras.layers.Reshape((28, 28), name = \"reshape_1\")\n",
    "    ])\n",
    "\n",
    "  def call(self, x):\n",
    "    encoded = self.encoder(x)\n",
    "    decoded = self.decoder(encoded)\n",
    "    return decoded\n",
    "\n",
    "# Prepare and compile the model\n",
    "autoencoder = Autoencoder(latent_dim)\n",
    "autoencoder.compile(optimizer='adam', loss='mae', metrics=[\"accuracy\"])\n",
    "\n",
    "# Train the model with the filtered data\n",
    "autoencoder.fit(x_train, x_train, epochs=50, shuffle=True, validation_data=(x_test, x_test))"
   ]
  },
  {
   "cell_type": "code",
   "execution_count": 4,
   "id": "3ff263fa",
   "metadata": {},
   "outputs": [
    {
     "data": {
      "image/png": "[encoded data removed]",
      "text/plain": [
       "<Figure size 2160x288 with 30 Axes>"
      ]
     },
     "metadata": {
      "needs_background": "light"
     },
     "output_type": "display_data"
    }
   ],
   "source": [
    "import matplotlib.pyplot as plt\n",
    "\n",
    "encoded_imgs = autoencoder.encoder(x_train).numpy()\n",
    "decoded_imgs = autoencoder.decoder(encoded_imgs).numpy()\n",
    "\n",
    "n = 15\n",
    "plt.figure(figsize=(30, 4))\n",
    "for i in range(n):\n",
    "  # display original\n",
    "  ax = plt.subplot(2, n, i + 1)\n",
    "  plt.imshow(x_train[i])\n",
    "  plt.title(\"original\")\n",
    "  plt.gray()\n",
    "  ax.get_xaxis().set_visible(False)\n",
    "  ax.get_yaxis().set_visible(False)\n",
    "\n",
    "  # display reconstruction\n",
    "  ax = plt.subplot(2, n, i + 1 + n)\n",
    "  plt.imshow(decoded_imgs[i])\n",
    "  plt.title(\"reconstructed\")\n",
    "  plt.gray()\n",
    "  ax.get_xaxis().set_visible(False)\n",
    "  ax.get_yaxis().set_visible(False)\n",
    "plt.show()"
   ]
  },
  {
   "cell_type": "code",
   "execution_count": 5,
   "id": "1ebef980",
   "metadata": {},
   "outputs": [],
   "source": [
    "# Encode data with our new autoencoder\n",
    "QX_train = autoencoder.encoder(x_train).numpy()\n",
    "QX_test = autoencoder.encoder(x_test).numpy()\n",
    "\n",
    "# Change Y values to categorical\n",
    "QY_train = tf.keras.utils.to_categorical(y_train, 10)\n",
    "QY_test = tf.keras.utils.to_categorical(y_test, 10)"
   ]
  },
  {
   "cell_type": "code",
   "execution_count": 6,
   "id": "721c0a71",
   "metadata": {},
   "outputs": [],
   "source": [
    "import pennylane as qml\n",
    "from pennylane import numpy as p_np\n",
    "\n",
    "from pennylane.templates.state_preparations import MottonenStatePreparation\n",
    "from pennylane.templates.layers import StronglyEntanglingLayers"
   ]
  },
  {
   "cell_type": "code",
   "execution_count": 7,
   "id": "bd9d3802",
   "metadata": {},
   "outputs": [],
   "source": [
    "dev = qml.device(\"default.qubit\", wires = n_qubits)\n",
    "\n",
    "@qml.qnode(dev, diff_method='adjoint')\n",
    "def circuit(weights, inputs=None):\n",
    "  ''' Quantum QVC Circuit'''\n",
    "\n",
    "  # Splits need to be done through the tensorflow interface\n",
    "  weights_each_layer = tf.split(weights, num_or_size_splits=num_layers, axis=0)\n",
    "  \n",
    "  # Input normalization\n",
    "  inputs_1 = inputs / p_np.sqrt(max(p_np.sum(inputs ** 2, axis=-1), 0.001))\n",
    "\n",
    "  for i, W in enumerate(weights):\n",
    "#     # Data re-uploading technique\n",
    "    if i % 2 == 0:\n",
    "      MottonenStatePreparation(inputs_1.numpy(), wires = range(n_qubits))\n",
    "    \n",
    "#     # Neural network layer\n",
    "    StronglyEntanglingLayers(tf.cast(weights_each_layer[i], tf.float64), wires=range(n_qubits), imprimitive = qml.CY)\n",
    "  \n",
    "  # Measurement return\n",
    "  return [qml.expval(qml.PauliZ(i)) for i in range(n_qubits)]"
   ]
  },
  {
   "cell_type": "code",
   "execution_count": 8,
   "id": "0edd0d62",
   "metadata": {},
   "outputs": [],
   "source": [
    "weight_shapes = {\"weights\": (num_layers,n_qubits,3)}\n",
    "\n",
    "# Model  \n",
    "input_m = tf.keras.layers.Input(shape=(2 ** n_qubits,), name = \"input_0\")\n",
    "keras_1 = qml.qnn.KerasLayer(circuit, weight_shapes, output_dim=n_qubits, name = \"keras_1\")(input_m)\n",
    "output = tf.keras.layers.Dense(10, activation='softmax', name = \"dense_1\")(keras_1)\n",
    "\n",
    "# Model creation\n",
    "model = tf.keras.Model(inputs=input_m, outputs=output, name=\"mnist_quantum_model\")\n",
    "\n",
    "# Model compilation\n",
    "model.compile(\n",
    "  loss='categorical_crossentropy',\n",
    "  optimizer=tf.keras.optimizers.Adam(learning_rate=0.01) ,\n",
    "  metrics=[tf.keras.metrics.CategoricalAccuracy()]\n",
    ")"
   ]
  },
  {
   "cell_type": "code",
   "execution_count": 9,
   "id": "7acf0fb8",
   "metadata": {},
   "outputs": [
    {
     "name": "stdout",
     "output_type": "stream",
     "text": [
      "Model: \"mnist_quantum_model\"\n",
      "_________________________________________________________________\n",
      " Layer (type)                Output Shape              Param #   \n",
      "=================================================================\n",
      " input_0 (InputLayer)        [(None, 64)]              0         \n",
      "                                                                 \n",
      " keras_1 (KerasLayer)        (None, 6)                 0 (unused)\n",
      "                                                                 \n",
      " dense_1 (Dense)             (None, 10)                70        \n",
      "                                                                 \n",
      "=================================================================\n",
      "Total params: 70\n",
      "Trainable params: 70\n",
      "Non-trainable params: 0\n",
      "_________________________________________________________________\n"
     ]
    }
   ],
   "source": [
    "model.summary()"
   ]
  },
  {
   "cell_type": "code",
   "execution_count": 10,
   "id": "8b3704c5",
   "metadata": {
    "scrolled": true
   },
   "outputs": [
    {
     "name": "stdout",
     "output_type": "stream",
     "text": [
      "Epoch 1/5\n",
      "450/450 [==============================] - 1060s 2s/step - loss: 0.7991 - categorical_accuracy: 0.7431\n",
      "Epoch 2/5\n",
      "450/450 [==============================] - 1056s 2s/step - loss: 0.4178 - categorical_accuracy: 0.8369\n",
      "Epoch 3/5\n",
      "450/450 [==============================] - 1051s 2s/step - loss: 0.3689 - categorical_accuracy: 0.8453\n",
      "Epoch 4/5\n",
      "450/450 [==============================] - 1048s 2s/step - loss: 0.3507 - categorical_accuracy: 0.8633\n",
      "Epoch 5/5\n",
      "450/450 [==============================] - 1066s 2s/step - loss: 0.3385 - categorical_accuracy: 0.8633\n"
     ]
    },
    {
     "data": {
      "text/plain": [
       "<keras.callbacks.History at 0x7fd9f05dc820>"
      ]
     },
     "execution_count": 10,
     "metadata": {},
     "output_type": "execute_result"
    }
   ],
   "source": [
    "model.fit(QX_train, QY_train, batch_size=8, epochs=5, shuffle=True)"
   ]
  },
  {
   "cell_type": "code",
   "execution_count": 11,
   "id": "ce3bc53e",
   "metadata": {},
   "outputs": [
    {
     "name": "stdout",
     "output_type": "stream",
     "text": [
      "19/19 [==============================] - 152s 8s/step - loss: 0.3431 - categorical_accuracy: 0.8517\n"
     ]
    }
   ],
   "source": [
    "results = model.evaluate(QX_test, QY_test)"
   ]
  },
  {
   "cell_type": "code",
   "execution_count": 13,
   "id": "77f124d6",
   "metadata": {},
   "outputs": [],
   "source": [
    "predictions = model.predict(QX_test)"
   ]
  },
  {
   "cell_type": "code",
   "execution_count": 16,
   "id": "83befad0",
   "metadata": {},
   "outputs": [],
   "source": [
    "predictions = np.argmax(predictions, axis = 1)"
   ]
  },
  {
   "cell_type": "code",
   "execution_count": 24,
   "id": "69f2c0c6",
   "metadata": {},
   "outputs": [],
   "source": [
    "answers_test = np.argmax(QY_test, axis = 1)"
   ]
  },
  {
   "cell_type": "code",
   "execution_count": 25,
   "id": "4d1ab218",
   "metadata": {},
   "outputs": [
    {
     "data": {
      "text/plain": [
       "<sklearn.metrics._plot.confusion_matrix.ConfusionMatrixDisplay at 0x7fd940fcb220>"
      ]
     },
     "execution_count": 25,
     "metadata": {},
     "output_type": "execute_result"
    },
    {
     "data": {
      "image/png": "[encoded data removed]",
      "text/plain": [
       "<Figure size 432x288 with 2 Axes>"
      ]
     },
     "metadata": {
      "needs_background": "light"
     },
     "output_type": "display_data"
    }
   ],
   "source": [
    "from sklearn.metrics import ConfusionMatrixDisplay\n",
    "\n",
    "ConfusionMatrixDisplay.from_predictions(predictions, answers_test)"
   ]
  },
  {
   "cell_type": "code",
   "execution_count": null,
   "id": "81637df8",
   "metadata": {},
   "outputs": [],
   "source": []
  }
 ],
 "metadata": {
  "kernelspec": {
   "display_name": "Python 3 (ipykernel)",
   "language": "python",
   "name": "python3"
  },
  "language_info": {
   "codemirror_mode": {
    "name": "ipython",
    "version": 3
   },
   "file_extension": ".py",
   "mimetype": "text/x-python",
   "name": "python",
   "nbconvert_exporter": "python",
   "pygments_lexer": "ipython3",
   "version": "3.8.10"
  }
 },
 "nbformat": 4,
 "nbformat_minor": 5
}
